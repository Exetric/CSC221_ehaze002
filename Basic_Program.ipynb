{
  "nbformat": 4,
  "nbformat_minor": 0,
  "metadata": {
    "colab": {
      "provenance": []
    },
    "kernelspec": {
      "name": "python3",
      "display_name": "Python 3"
    },
    "language_info": {
      "name": "python"
    }
  },
  "cells": [
    {
      "cell_type": "code",
      "execution_count": 8,
      "metadata": {
        "colab": {
          "base_uri": "https://localhost:8080/"
        },
        "id": "VHympIz0SoZY",
        "outputId": "a00ee7bc-4554-4d23-886c-e828059ba7b7"
      },
      "outputs": [
        {
          "output_type": "stream",
          "name": "stdout",
          "text": [
            "Guess the number game!\n",
            "How big would you like the number range to be? -1\n",
            "This is not a valid number!\n"
          ]
        }
      ],
      "source": [
        "# Guess the number game (very hard game that is 100% luck based)\n",
        "\n",
        "import random\n",
        "\n",
        "print(\"Guess the number game!\")\n",
        "\n",
        "try:\n",
        "  userInput = input(\"How big would you like the number range to be? \")\n",
        "  userNumber = int(userInput)\n",
        "  randomNumber = random.randint(1, userNumber)\n",
        "\n",
        "  userGuess = input(\"Guess the number? \")\n",
        "  if(int(userGuess) == userNumber):\n",
        "    print(\"Correct! Amazing job!\")\n",
        "  else:\n",
        "    print(\"Incorrect! The correct number was \" + str(randomNumber) + \"!\")\n",
        "except ValueError:\n",
        "    print(\"This is not a valid number!\")"
      ]
    }
  ]
}