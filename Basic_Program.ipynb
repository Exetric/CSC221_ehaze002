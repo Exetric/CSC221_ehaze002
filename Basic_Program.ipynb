{
  "nbformat": 4,
  "nbformat_minor": 0,
  "metadata": {
    "colab": {
      "provenance": []
    },
    "kernelspec": {
      "name": "python3",
      "display_name": "Python 3"
    },
    "language_info": {
      "name": "python"
    }
  },
  "cells": [
    {
      "cell_type": "code",
      "execution_count": 9,
      "metadata": {
        "colab": {
          "base_uri": "https://localhost:8080/"
        },
        "id": "VHympIz0SoZY",
        "outputId": "7d47cfca-f515-4fc7-9430-00764aacf432"
      },
      "outputs": [
        {
          "output_type": "stream",
          "name": "stdout",
          "text": [
            "Guess the number game!\n",
            "How big would you like the number range to be? 20\n",
            "Guess the number? 5\n",
            "Incorrect! The correct number was 4!\n"
          ]
        }
      ],
      "source": [
        "# Guess the number game (very hard game that is 100% luck based)\n",
        "\n",
        "import random\n",
        "\n",
        "print(\"Guess the number game!\")\n",
        "\n",
        "try:\n",
        "  userInput = input(\"How big would you like the number range to be? \")\n",
        "  userNumber = int(userInput)\n",
        "  randomNumber = random.randint(1, userNumber)\n",
        "\n",
        "  userGuess = input(\"Guess the number? \")\n",
        "  if(int(userGuess) == userNumber):\n",
        "    print(\"Correct! Amazing job!\")\n",
        "  else:\n",
        "    print(\"Incorrect! The correct number was \" + str(randomNumber) + \"!\")\n",
        "except ValueError:\n",
        "    print(\"This is not a valid number!\")"
      ]
    }
  ]
}